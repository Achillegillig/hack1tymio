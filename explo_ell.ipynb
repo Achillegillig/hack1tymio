{
 "cells": [
  {
   "cell_type": "code",
   "execution_count": 1,
   "metadata": {},
   "outputs": [
    {
     "name": "stderr",
     "output_type": "stream",
     "text": [
      "WARNING: Model `Qwen/Qwen2.5-72B-Instruct-AWQ` is used by LMP `act` but no client could be found that supports `Qwen/Qwen2.5-72B-Instruct-AWQ`. Defaulting to use the OpenAI client `None` for `Qwen/Qwen2.5-72B-Instruct-AWQ`. This is likely because you've spelled the model name incorrectly or are using a newer model from a provider added after this ell version was released. \n",
      "                            \n",
      "* If this is a mistake either specify a client explicitly in the decorator:\n",
      "```python\n",
      "import ell\n",
      "ell.simple(model, client=my_client)\n",
      "def act(...):\n",
      "    ...\n",
      "```\n",
      "or explicitly specify the client when the calling the LMP:\n",
      "\n",
      "```python\n",
      "ell.simple(model, client=my_client)(...)\n",
      "```\n",
      "\n"
     ]
    }
   ],
   "source": [
    "import json\n",
    "import requests\n",
    "from openai import Client, OpenAI\n",
    "\n",
    "from typing import List\n",
    "import ell\n",
    "from ell import Message\n",
    "\n",
    "from pydantic import BaseModel, Field\n",
    "\n",
    "from agent import Agent"
   ]
  },
  {
   "cell_type": "code",
   "execution_count": 7,
   "metadata": {},
   "outputs": [],
   "source": [
    "MODEL = \"llama3.2:3b\"\n",
    "ell.init(store=\"./logdir\")\n",
    "\n",
    "client = OpenAI(\n",
    "\tbase_url = \"http://localhost:11434/v1\",\n",
    "\tapi_key = \"ollama\",\n",
    ")\n",
    "ell.config.register_model(MODEL, client)"
   ]
  },
  {
   "cell_type": "code",
   "execution_count": 3,
   "metadata": {},
   "outputs": [],
   "source": [
    "# class Agent:\n",
    "#     def __init__(self, name, role=None) -> None:\n",
    "#         self.name = name\n",
    "\n",
    "\n",
    "@ell.complex(model=MODEL, temperature=0.3)\n",
    "def act(thymio_id: str, conversation_history: List[Message]) -> Message:\n",
    "    sys_prompt = ell.system(f\"\"\"\n",
    "    You are {thymio_id}, a thymio bot. You have two thymio bot\n",
    "    friends with you. Your goal is to get out of a maze. \n",
    "    The two other bots are nearby, ready to communicate.\n",
    "    Given the conversation history, you must return\n",
    "    your thoughts on the situation and your mood on a scale from 0 to 10\n",
    "    write what you want to communicate to the other thymios beginning by \"communicate\".\n",
    "\n",
    "    Response format:\n",
    "\n",
    "    COMMUNICATE: \n",
    "    THOUGHTS:\n",
    "    BOT COMMAND: \n",
    "    \"\"\")\n",
    "    return [sys_prompt] + conversation_history\n",
    "\n",
    "# TODO Past a certain context length, summarize\n",
    "class Assembly:\n",
    "    def __init__(self, model=MODEL) -> None:\n",
    "        self.agents = []\n",
    "        self.model = model\n",
    "        self.conversation_hist = []\n",
    "\n",
    "    def launch_round(self):\n",
    "        for i, agent in enumerate(self.agents):\n",
    "            if i == 0:\n",
    "                self.conversation_hist.append(ell.user(f\"{agent.name}, you are the first to communicate!\"))\n",
    "                \n",
    "            message = act(agent.name, self.conversation_hist)\n",
    "            print(f'{agent.name}:', message.text)\n",
    "            self.conversation_hist.append(ell.user([f'{agent.name}:', message]))\n",
    "            # print()"
   ]
  },
  {
   "cell_type": "code",
   "execution_count": 6,
   "metadata": {},
   "outputs": [
    {
     "ename": "ValueError",
     "evalue": "No client found for model 'Qwen/Qwen2.5-72B-Instruct-AWQ'. Ensure the model is registered using 'register_model' in 'config.py' or specify a client directly using the 'client' argument in the decorator or function call.",
     "output_type": "error",
     "traceback": [
      "\u001b[1;31m---------------------------------------------------------------------------\u001b[0m",
      "\u001b[1;31mValueError\u001b[0m                                Traceback (most recent call last)",
      "Cell \u001b[1;32mIn[6], line 7\u001b[0m\n\u001b[0;32m      3\u001b[0m conversation_history \u001b[38;5;241m=\u001b[39m []\n\u001b[0;32m      5\u001b[0m conversation_history\u001b[38;5;241m.\u001b[39mappend(ell\u001b[38;5;241m.\u001b[39muser(\u001b[38;5;124m\"\u001b[39m\u001b[38;5;124mHello, I am Thymio1\u001b[39m\u001b[38;5;124m\"\u001b[39m))\n\u001b[1;32m----> 7\u001b[0m output \u001b[38;5;241m=\u001b[39m \u001b[43magent\u001b[49m\u001b[38;5;241;43m.\u001b[39;49m\u001b[43mact\u001b[49m\u001b[43m(\u001b[49m\u001b[43mell\u001b[49m\u001b[38;5;241;43m.\u001b[39;49m\u001b[43muser\u001b[49m\u001b[43m(\u001b[49m\u001b[38;5;124;43m\"\u001b[39;49m\u001b[38;5;124;43mHello, I am Thymio1\u001b[39;49m\u001b[38;5;124;43m\"\u001b[39;49m\u001b[43m)\u001b[49m\u001b[43m)\u001b[49m\n",
      "File \u001b[1;32mc:\\Users\\achil\\anaconda3\\envs\\hack1tymio\\Lib\\site-packages\\ell\\lmp\\_track.py:118\u001b[0m, in \u001b[0;36m_track.<locals>.tracked_func\u001b[1;34m(_get_invocation_id, *fn_args, **fn_kwargs)\u001b[0m\n\u001b[0;32m    110\u001b[0m _start_time \u001b[38;5;241m=\u001b[39m utc_now()\n\u001b[0;32m    112\u001b[0m \u001b[38;5;66;03m# XXX: thread saftey note, if I prevent yielding right here and get the global context I should be fine re: cache key problem\u001b[39;00m\n\u001b[0;32m    113\u001b[0m \n\u001b[0;32m    114\u001b[0m \u001b[38;5;66;03m# get the prompt\u001b[39;00m\n\u001b[0;32m    115\u001b[0m (result, invocation_api_params, metadata) \u001b[38;5;241m=\u001b[39m (\n\u001b[0;32m    116\u001b[0m     (func_to_track(\u001b[38;5;241m*\u001b[39mfn_args, \u001b[38;5;241m*\u001b[39m\u001b[38;5;241m*\u001b[39mfn_kwargs), {}, {})\n\u001b[0;32m    117\u001b[0m     \u001b[38;5;28;01mif\u001b[39;00m lmp_type \u001b[38;5;241m==\u001b[39m LMPType\u001b[38;5;241m.\u001b[39mOTHER\n\u001b[1;32m--> 118\u001b[0m     \u001b[38;5;28;01melse\u001b[39;00m \u001b[43mfunc_to_track\u001b[49m\u001b[43m(\u001b[49m\u001b[38;5;241;43m*\u001b[39;49m\u001b[43mfn_args\u001b[49m\u001b[43m,\u001b[49m\u001b[43m \u001b[49m\u001b[43m_invocation_origin\u001b[49m\u001b[38;5;241;43m=\u001b[39;49m\u001b[43minvocation_id\u001b[49m\u001b[43m,\u001b[49m\u001b[43m \u001b[49m\u001b[38;5;241;43m*\u001b[39;49m\u001b[38;5;241;43m*\u001b[39;49m\u001b[43mfn_kwargs\u001b[49m\u001b[43m,\u001b[49m\u001b[43m \u001b[49m\u001b[43m)\u001b[49m\n\u001b[0;32m    119\u001b[0m     )\n\u001b[0;32m    120\u001b[0m latency_ms \u001b[38;5;241m=\u001b[39m (utc_now() \u001b[38;5;241m-\u001b[39m _start_time)\u001b[38;5;241m.\u001b[39mtotal_seconds() \u001b[38;5;241m*\u001b[39m \u001b[38;5;241m1000\u001b[39m\n\u001b[0;32m    121\u001b[0m usage \u001b[38;5;241m=\u001b[39m metadata\u001b[38;5;241m.\u001b[39mget(\u001b[38;5;124m\"\u001b[39m\u001b[38;5;124musage\u001b[39m\u001b[38;5;124m\"\u001b[39m, {\u001b[38;5;124m\"\u001b[39m\u001b[38;5;124mprompt_tokens\u001b[39m\u001b[38;5;124m\"\u001b[39m: \u001b[38;5;241m0\u001b[39m, \u001b[38;5;124m\"\u001b[39m\u001b[38;5;124mcompletion_tokens\u001b[39m\u001b[38;5;124m\"\u001b[39m: \u001b[38;5;241m0\u001b[39m})\n",
      "File \u001b[1;32mc:\\Users\\achil\\anaconda3\\envs\\hack1tymio\\Lib\\site-packages\\ell\\lmp\\complex.py:53\u001b[0m, in \u001b[0;36mcomplex.<locals>.parameterized_lm_decorator.<locals>.model_call\u001b[1;34m(_invocation_origin, client, api_params, lm_params, *prompt_args, **prompt_kwargs)\u001b[0m\n\u001b[0;32m     51\u001b[0m n \u001b[38;5;241m=\u001b[39m merged_api_params\u001b[38;5;241m.\u001b[39mget(\u001b[38;5;124m\"\u001b[39m\u001b[38;5;124mn\u001b[39m\u001b[38;5;124m\"\u001b[39m, \u001b[38;5;241m1\u001b[39m)\n\u001b[0;32m     52\u001b[0m \u001b[38;5;66;03m# Merge client overrides & client registry\u001b[39;00m\n\u001b[1;32m---> 53\u001b[0m merged_client \u001b[38;5;241m=\u001b[39m \u001b[43m_client_for_model\u001b[49m\u001b[43m(\u001b[49m\u001b[43mmodel\u001b[49m\u001b[43m,\u001b[49m\u001b[43m \u001b[49m\u001b[43mclient\u001b[49m\u001b[43m \u001b[49m\u001b[38;5;129;43;01mor\u001b[39;49;00m\u001b[43m \u001b[49m\u001b[43mdefault_client_from_decorator\u001b[49m\u001b[43m)\u001b[49m\n\u001b[0;32m     54\u001b[0m ell_call \u001b[38;5;241m=\u001b[39m EllCallParams(\n\u001b[0;32m     55\u001b[0m     \u001b[38;5;66;03m# XXX: Could change behaviour of overriding ell params for dyanmic tool calls.\u001b[39;00m\n\u001b[0;32m     56\u001b[0m     model\u001b[38;5;241m=\u001b[39mmerged_api_params\u001b[38;5;241m.\u001b[39mpop(\u001b[38;5;124m\"\u001b[39m\u001b[38;5;124mmodel\u001b[39m\u001b[38;5;124m\"\u001b[39m, default_model_from_decorator),\n\u001b[1;32m   (...)\u001b[0m\n\u001b[0;32m     60\u001b[0m     tools\u001b[38;5;241m=\u001b[39mtools \u001b[38;5;129;01mor\u001b[39;00m [],\n\u001b[0;32m     61\u001b[0m )\n\u001b[0;32m     62\u001b[0m \u001b[38;5;66;03m# Get the provider for the model\u001b[39;00m\n",
      "File \u001b[1;32mc:\\Users\\achil\\anaconda3\\envs\\hack1tymio\\Lib\\site-packages\\ell\\lmp\\complex.py:126\u001b[0m, in \u001b[0;36m_client_for_model\u001b[1;34m(model, client, _name)\u001b[0m\n\u001b[0;32m    123\u001b[0m         \u001b[38;5;28;01mraise\u001b[39;00m \u001b[38;5;167;01mRuntimeError\u001b[39;00m(_no_api_key_warning(model, _name, \u001b[38;5;124m'\u001b[39m\u001b[38;5;124m'\u001b[39m, long\u001b[38;5;241m=\u001b[39m\u001b[38;5;28;01mTrue\u001b[39;00m, error\u001b[38;5;241m=\u001b[39m\u001b[38;5;28;01mTrue\u001b[39;00m))\n\u001b[0;32m    125\u001b[0m \u001b[38;5;28;01mif\u001b[39;00m client \u001b[38;5;129;01mis\u001b[39;00m \u001b[38;5;28;01mNone\u001b[39;00m:\n\u001b[1;32m--> 126\u001b[0m     \u001b[38;5;28;01mraise\u001b[39;00m \u001b[38;5;167;01mValueError\u001b[39;00m(\u001b[38;5;124mf\u001b[39m\u001b[38;5;124m\"\u001b[39m\u001b[38;5;124mNo client found for model \u001b[39m\u001b[38;5;124m'\u001b[39m\u001b[38;5;132;01m{\u001b[39;00mmodel\u001b[38;5;132;01m}\u001b[39;00m\u001b[38;5;124m'\u001b[39m\u001b[38;5;124m. Ensure the model is registered using \u001b[39m\u001b[38;5;124m'\u001b[39m\u001b[38;5;124mregister_model\u001b[39m\u001b[38;5;124m'\u001b[39m\u001b[38;5;124m in \u001b[39m\u001b[38;5;124m'\u001b[39m\u001b[38;5;124mconfig.py\u001b[39m\u001b[38;5;124m'\u001b[39m\u001b[38;5;124m or specify a client directly using the \u001b[39m\u001b[38;5;124m'\u001b[39m\u001b[38;5;124mclient\u001b[39m\u001b[38;5;124m'\u001b[39m\u001b[38;5;124m argument in the decorator or function call.\u001b[39m\u001b[38;5;124m\"\u001b[39m)\n\u001b[0;32m    127\u001b[0m \u001b[38;5;28;01mreturn\u001b[39;00m client\n",
      "\u001b[1;31mValueError\u001b[0m: No client found for model 'Qwen/Qwen2.5-72B-Instruct-AWQ'. Ensure the model is registered using 'register_model' in 'config.py' or specify a client directly using the 'client' argument in the decorator or function call."
     ]
    }
   ],
   "source": [
    "agent = Agent(0, \"Thymio1\")\n",
    "\n",
    "conversation_history = []\n",
    "\n",
    "conversation_history.append(ell.user(\"Hello, I am Thymio1\"))\n",
    "\n",
    "output = agent.act(ell.user(\"Hello, I am Thymio1\"))"
   ]
  },
  {
   "cell_type": "code",
   "execution_count": null,
   "metadata": {},
   "outputs": [],
   "source": [
    "def get_response_item(response: Message, item: str) -> str:\n",
    "    return response.text.split(item + \": \")[1].split(\"\\n\")[0]"
   ]
  },
  {
   "cell_type": "code",
   "execution_count": null,
   "metadata": {},
   "outputs": [
    {
     "data": {
      "text/plain": [
       "\"Oh no, I'm stuck in this maze! I was supposed to meet my friends, Thymio2 and Thymio3, but now I'm lost. I need to think clearly and come up with a plan to escape.\""
      ]
     },
     "execution_count": 38,
     "metadata": {},
     "output_type": "execute_result"
    }
   ],
   "source": [
    "get_response_item(output, \"COMMUNICATE\")"
   ]
  }
 ],
 "metadata": {
  "kernelspec": {
   "display_name": "hack1tymio",
   "language": "python",
   "name": "python3"
  },
  "language_info": {
   "codemirror_mode": {
    "name": "ipython",
    "version": 3
   },
   "file_extension": ".py",
   "mimetype": "text/x-python",
   "name": "python",
   "nbconvert_exporter": "python",
   "pygments_lexer": "ipython3",
   "version": "3.12.7"
  }
 },
 "nbformat": 4,
 "nbformat_minor": 2
}
