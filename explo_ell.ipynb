{
 "cells": [
  {
   "cell_type": "code",
   "execution_count": 4,
   "metadata": {},
   "outputs": [
    {
     "name": "stderr",
     "output_type": "stream",
     "text": [
      "WARNING: Model `Qwen/Qwen2.5-72B-Instruct-AWQ` is used by LMP `act` but no client could be found that supports `Qwen/Qwen2.5-72B-Instruct-AWQ`. Defaulting to use the OpenAI client `None` for `Qwen/Qwen2.5-72B-Instruct-AWQ`. This is likely because you've spelled the model name incorrectly or are using a newer model from a provider added after this ell version was released. \n",
      "                            \n",
      "* If this is a mistake either specify a client explicitly in the decorator:\n",
      "```python\n",
      "import ell\n",
      "ell.simple(model, client=my_client)\n",
      "def act(...):\n",
      "    ...\n",
      "```\n",
      "or explicitly specify the client when the calling the LMP:\n",
      "\n",
      "```python\n",
      "ell.simple(model, client=my_client)(...)\n",
      "```\n",
      "\n"
     ]
    },
    {
     "data": {
      "text/plain": [
       "True"
      ]
     },
     "execution_count": 4,
     "metadata": {},
     "output_type": "execute_result"
    }
   ],
   "source": [
    "from openai import OpenAI\n",
    "from typing import List\n",
    "import ell\n",
    "from ell import Message\n",
    "from agent import Agent\n",
    "import dotenv\n",
    "import os\n",
    "dotenv.load_dotenv()"
   ]
  },
  {
   "cell_type": "code",
   "execution_count": 5,
   "metadata": {},
   "outputs": [],
   "source": [
    "ell.init(store=\"./logdir\")\n",
    "\n",
    "client = OpenAI(\n",
    "\tbase_url = os.getenv('BASE_URL'),\n",
    "\tapi_key = os.getenv('API_KEY'),\n",
    ")\n",
    "ell.config.register_model(os.getenv('MODEL'), client)"
   ]
  },
  {
   "cell_type": "code",
   "execution_count": 7,
   "metadata": {},
   "outputs": [
    {
     "ename": "TypeError",
     "evalue": "can only concatenate list (not \"Message\") to list",
     "output_type": "error",
     "traceback": [
      "\u001b[0;31m---------------------------------------------------------------------------\u001b[0m",
      "\u001b[0;31mTypeError\u001b[0m                                 Traceback (most recent call last)",
      "Cell \u001b[0;32mIn[7], line 7\u001b[0m\n\u001b[1;32m      3\u001b[0m conversation_history \u001b[38;5;241m=\u001b[39m []\n\u001b[1;32m      5\u001b[0m conversation_history\u001b[38;5;241m.\u001b[39mappend(ell\u001b[38;5;241m.\u001b[39muser(\u001b[38;5;124m\"\u001b[39m\u001b[38;5;124mHello, I am Thymio1\u001b[39m\u001b[38;5;124m\"\u001b[39m))\n\u001b[0;32m----> 7\u001b[0m output \u001b[38;5;241m=\u001b[39m \u001b[43magent\u001b[49m\u001b[38;5;241;43m.\u001b[39;49m\u001b[43mact\u001b[49m\u001b[43m(\u001b[49m\u001b[43mell\u001b[49m\u001b[38;5;241;43m.\u001b[39;49m\u001b[43muser\u001b[49m\u001b[43m(\u001b[49m\u001b[38;5;124;43m\"\u001b[39;49m\u001b[38;5;124;43mHello, I am Thymio1\u001b[39;49m\u001b[38;5;124;43m\"\u001b[39;49m\u001b[43m)\u001b[49m\u001b[43m)\u001b[49m\n",
      "File \u001b[0;32m~/Thesis/code/hack1tymio/thymio_venv/lib/python3.11/site-packages/ell/lmp/_track.py:118\u001b[0m, in \u001b[0;36m_track.<locals>.tracked_func\u001b[0;34m(_get_invocation_id, *fn_args, **fn_kwargs)\u001b[0m\n\u001b[1;32m    110\u001b[0m _start_time \u001b[38;5;241m=\u001b[39m utc_now()\n\u001b[1;32m    112\u001b[0m \u001b[38;5;66;03m# XXX: thread saftey note, if I prevent yielding right here and get the global context I should be fine re: cache key problem\u001b[39;00m\n\u001b[1;32m    113\u001b[0m \n\u001b[1;32m    114\u001b[0m \u001b[38;5;66;03m# get the prompt\u001b[39;00m\n\u001b[1;32m    115\u001b[0m (result, invocation_api_params, metadata) \u001b[38;5;241m=\u001b[39m (\n\u001b[1;32m    116\u001b[0m     (func_to_track(\u001b[38;5;241m*\u001b[39mfn_args, \u001b[38;5;241m*\u001b[39m\u001b[38;5;241m*\u001b[39mfn_kwargs), {}, {})\n\u001b[1;32m    117\u001b[0m     \u001b[38;5;28;01mif\u001b[39;00m lmp_type \u001b[38;5;241m==\u001b[39m LMPType\u001b[38;5;241m.\u001b[39mOTHER\n\u001b[0;32m--> 118\u001b[0m     \u001b[38;5;28;01melse\u001b[39;00m \u001b[43mfunc_to_track\u001b[49m\u001b[43m(\u001b[49m\u001b[38;5;241;43m*\u001b[39;49m\u001b[43mfn_args\u001b[49m\u001b[43m,\u001b[49m\u001b[43m \u001b[49m\u001b[43m_invocation_origin\u001b[49m\u001b[38;5;241;43m=\u001b[39;49m\u001b[43minvocation_id\u001b[49m\u001b[43m,\u001b[49m\u001b[43m \u001b[49m\u001b[38;5;241;43m*\u001b[39;49m\u001b[38;5;241;43m*\u001b[39;49m\u001b[43mfn_kwargs\u001b[49m\u001b[43m,\u001b[49m\u001b[43m \u001b[49m\u001b[43m)\u001b[49m\n\u001b[1;32m    119\u001b[0m     )\n\u001b[1;32m    120\u001b[0m latency_ms \u001b[38;5;241m=\u001b[39m (utc_now() \u001b[38;5;241m-\u001b[39m _start_time)\u001b[38;5;241m.\u001b[39mtotal_seconds() \u001b[38;5;241m*\u001b[39m \u001b[38;5;241m1000\u001b[39m\n\u001b[1;32m    121\u001b[0m usage \u001b[38;5;241m=\u001b[39m metadata\u001b[38;5;241m.\u001b[39mget(\u001b[38;5;124m\"\u001b[39m\u001b[38;5;124musage\u001b[39m\u001b[38;5;124m\"\u001b[39m, {\u001b[38;5;124m\"\u001b[39m\u001b[38;5;124mprompt_tokens\u001b[39m\u001b[38;5;124m\"\u001b[39m: \u001b[38;5;241m0\u001b[39m, \u001b[38;5;124m\"\u001b[39m\u001b[38;5;124mcompletion_tokens\u001b[39m\u001b[38;5;124m\"\u001b[39m: \u001b[38;5;241m0\u001b[39m})\n",
      "File \u001b[0;32m~/Thesis/code/hack1tymio/thymio_venv/lib/python3.11/site-packages/ell/lmp/complex.py:39\u001b[0m, in \u001b[0;36mcomplex.<locals>.parameterized_lm_decorator.<locals>.model_call\u001b[0;34m(_invocation_origin, client, api_params, lm_params, *prompt_args, **prompt_kwargs)\u001b[0m\n\u001b[1;32m     36\u001b[0m     \u001b[38;5;28;01mraise\u001b[39;00m \u001b[38;5;167;01mDeprecationWarning\u001b[39;00m(\u001b[38;5;124m\"\u001b[39m\u001b[38;5;124mlm_params is deprecated. Use api_params instead.\u001b[39m\u001b[38;5;124m\"\u001b[39m)\n\u001b[1;32m     38\u001b[0m \u001b[38;5;66;03m# promt -> str\u001b[39;00m\n\u001b[0;32m---> 39\u001b[0m res \u001b[38;5;241m=\u001b[39m \u001b[43mprompt\u001b[49m\u001b[43m(\u001b[49m\u001b[38;5;241;43m*\u001b[39;49m\u001b[43mprompt_args\u001b[49m\u001b[43m,\u001b[49m\u001b[43m \u001b[49m\u001b[38;5;241;43m*\u001b[39;49m\u001b[38;5;241;43m*\u001b[39;49m\u001b[43mprompt_kwargs\u001b[49m\u001b[43m)\u001b[49m\n\u001b[1;32m     40\u001b[0m \u001b[38;5;66;03m# Convert prompt into ell messages\u001b[39;00m\n\u001b[1;32m     41\u001b[0m messages \u001b[38;5;241m=\u001b[39m _get_messages(res, prompt) \n",
      "File \u001b[0;32m~/Thesis/code/hack1tymio/agent.py:36\u001b[0m, in \u001b[0;36mAgent.act\u001b[0;34m(self, conversation_history)\u001b[0m\n\u001b[1;32m     31\u001b[0m \u001b[38;5;129m@ell\u001b[39m\u001b[38;5;241m.\u001b[39mcomplex(model\u001b[38;5;241m=\u001b[39mos\u001b[38;5;241m.\u001b[39mgetenv(\u001b[38;5;124m'\u001b[39m\u001b[38;5;124mMODEL\u001b[39m\u001b[38;5;124m'\u001b[39m), temperature\u001b[38;5;241m=\u001b[39m\u001b[38;5;241m0.3\u001b[39m)\n\u001b[1;32m     32\u001b[0m \u001b[38;5;28;01mdef\u001b[39;00m \u001b[38;5;21mact\u001b[39m(\u001b[38;5;28mself\u001b[39m, conversation_history: \u001b[38;5;28mlist\u001b[39m[Message]) \u001b[38;5;241m-\u001b[39m\u001b[38;5;241m>\u001b[39m Message:\n\u001b[1;32m     33\u001b[0m     sys_prompt \u001b[38;5;241m=\u001b[39m ell\u001b[38;5;241m.\u001b[39msystem(\u001b[38;5;124mf\u001b[39m\u001b[38;5;124m\"\"\"\u001b[39m\u001b[38;5;132;01m{\u001b[39;00m\u001b[38;5;28mself\u001b[39m\u001b[38;5;241m.\u001b[39mname\u001b[38;5;132;01m}\u001b[39;00m\u001b[38;5;124m, you are in position \u001b[39m\u001b[38;5;132;01m{\u001b[39;00m\u001b[38;5;28mself\u001b[39m\u001b[38;5;241m.\u001b[39mpos\u001b[38;5;132;01m}\u001b[39;00m\n\u001b[1;32m     34\u001b[0m \u001b[38;5;124m    your current traits / their evolution since last round: \u001b[39m\u001b[38;5;132;01m{\u001b[39;00m\u001b[38;5;28mself\u001b[39m\u001b[38;5;241m.\u001b[39mtraits\u001b[38;5;132;01m}\u001b[39;00m\n\u001b[1;32m     35\u001b[0m \u001b[38;5;124m    information on other bots nearby: \u001b[39m\u001b[38;5;124m\"\"\"\u001b[39m)\n\u001b[0;32m---> 36\u001b[0m     \u001b[38;5;28;01mreturn\u001b[39;00m \u001b[43m[\u001b[49m\u001b[43msys_prompt\u001b[49m\u001b[43m]\u001b[49m\u001b[43m \u001b[49m\u001b[38;5;241;43m+\u001b[39;49m\u001b[43m \u001b[49m\u001b[43mconversation_history\u001b[49m\n",
      "\u001b[0;31mTypeError\u001b[0m: can only concatenate list (not \"Message\") to list"
     ]
    }
   ],
   "source": [
    "agent = Agent(None, 0, \"Thymio1\", (0, 0), (5, 5))\n",
    "\n",
    "conversation_history = []\n",
    "\n",
    "conversation_history.append(ell.user(\"Hello, I am Thymio1\"))\n",
    "\n",
    "output = agent.act(ell.user(\"Hello, I am Thymio1\"))"
   ]
  },
  {
   "cell_type": "code",
   "execution_count": 3,
   "metadata": {},
   "outputs": [
    {
     "ename": "NameError",
     "evalue": "name 'output' is not defined",
     "output_type": "error",
     "traceback": [
      "\u001b[0;31m---------------------------------------------------------------------------\u001b[0m",
      "\u001b[0;31mNameError\u001b[0m                                 Traceback (most recent call last)",
      "Cell \u001b[0;32mIn[3], line 1\u001b[0m\n\u001b[0;32m----> 1\u001b[0m \u001b[43moutput\u001b[49m\n",
      "\u001b[0;31mNameError\u001b[0m: name 'output' is not defined"
     ]
    }
   ],
   "source": [
    "output"
   ]
  },
  {
   "cell_type": "code",
   "execution_count": null,
   "metadata": {},
   "outputs": [],
   "source": []
  }
 ],
 "metadata": {
  "kernelspec": {
   "display_name": "thymio_venv",
   "language": "python",
   "name": "python3"
  },
  "language_info": {
   "codemirror_mode": {
    "name": "ipython",
    "version": 3
   },
   "file_extension": ".py",
   "mimetype": "text/x-python",
   "name": "python",
   "nbconvert_exporter": "python",
   "pygments_lexer": "ipython3",
   "version": "3.11.6"
  }
 },
 "nbformat": 4,
 "nbformat_minor": 2
}
