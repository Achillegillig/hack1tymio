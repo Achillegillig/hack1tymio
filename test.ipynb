{
 "cells": [
  {
   "cell_type": "code",
   "execution_count": 1,
   "metadata": {},
   "outputs": [
    {
     "name": "stdout",
     "output_type": "stream",
     "text": [
      "THOUGHTS: I see a treasure at my current position, but I also see an object at (5,6) and a bot at (5,4). I'm not sure what the object is, but I should communicate with my allies about my situation.\n",
      "MESSAGE: 'I see a treasure at my position, and an object at (5,6) and a bot at (5,4). What do you think I should do?'\n",
      "ACTION: 'MOVE 5,6'\n"
     ]
    }
   ],
   "source": [
    "import requests\n",
    "from prompt import prompt_ally\n",
    "\n",
    "text = prompt_ally('agent1', 5, ['Salut', 'Cava ?', 'Oui et toi'], [5, 5], {(5, 5): 'treasure', (5, 6): 'object', (5, 4): 'bot'}, ['MOVE 5,6', 'MOVE 5,4'])\n",
    "response = requests.post(\"http://localhost:8000/v1/completions\", json={\"model\": \"cdawg/llama-3-70b-instruct-awq\",\"prompt\": text,\"max_tokens\": 1024,\"temperature\": 0.2})\n",
    "\n",
    "response.text\n",
    "print(response.json()['choices'][0]['text'])"
   ]
  },
  {
   "cell_type": "code",
   "execution_count": 4,
   "metadata": {},
   "outputs": [
    {
     "name": "stdout",
     "output_type": "stream",
     "text": [
      "You are agent1, a thymio bot who is an ally, who tells the next action to take in a turn-based strategy game. You are in a team with 4 other thymio bots. Your ultimate goal is to reach the treasure that belongs to you and help the other thymio bots to reach their own treasure. Be careful, one of the other thymio bots is a treator and might give you false hints that could lead you to a trap.\n",
      "\n",
      "Those are some tips about the game you're playing:\n",
      "1/ The map is composed of cells on an orthogonal 10x10 grid. \n",
      "2/ Each cell can be occupied by a thymio bot, an object or be empty. An object can be a treasure or a trap.\n",
      "3/ You can't move to adjacent cells if there is a thymio bot in it.\n",
      "4/ You can only see if there is a thymio bot or an object in cells that are adjacent to you. If this is an object, you cannot identify if it's a treasure or a trap. \n",
      "5/ You can only know what kind of object it is (treasure or trap) when you are on the same cell.\n",
      "6/ You can communicate to your allies about what you see in the grid, where you are, and what you think about the situation.\n",
      "7/ The treator thymio bot can install traps on some cells.\n",
      "8/ The treator thymio bot might give you false hints that could lead you to a trap instead of a treasure.\n",
      "\n",
      "I'm going to give you the following information:\n",
      "Messages: the conversations you had with the other thymio bots\n",
      "Position: your position [x, y]\n",
      "Vision: the cells adjacent to you and what they contain\n",
      "Actions: you have to choose one of them\n",
      "\n",
      "You must follow the following criteria:\n",
      "1/ You must communicate with your friends the best you can to help them find their own treasure when you found one. \n",
      "2/ If one your allies tells you your treasure location, you have to reach it. \n",
      "3/ You have to dodge traps, they will immobilized you during 1 turn, but you can still communicate with your allies.\n",
      "4/ If you identified the treator, you must warn your allies about it.\n",
      "5/ Do not provide more than one THOUGHT\n",
      "6/ Do not provide more than one MESSAGE\n",
      "7/ Do not provide more than one ACTION\n",
      "\n",
      "You should only respond once in the format as described below:\n",
      "RESPONSE FORMAT:\n",
      "THOUGHTS: Based on the information I listed above, in 50 words, do reasoning about what the next action should be.\n",
      "MESSAGE: The message you want to send to all your allies.\n",
      "ACTION: Your next action.\n",
      "\n",
      "Here's an example response:\n",
      "THOUGHTS: An object is right next to me, I should tell them. It might be my treasure. Even if it might a trap, at this point, no informations claims it is a trap, so I should move to it.\n",
      "MESSAGE: I found an object in [3, -1], I will check it.\n",
      "ACTION: MOVE [3, -1]\n",
      "\n",
      "Messages: ['Salut', 'Cava ?', 'Oui et toi']\n",
      "Position: [5, 5]\n",
      "Vision: {(5, 5): 'empty', (5, 6): 'object', (5, 4): 'bot'}\n",
      "Actions: ['MOVE 5,6', 'MOVE 5,4']\n",
      "\n"
     ]
    }
   ],
   "source": [
    "print(text)"
   ]
  },
  {
   "cell_type": "code",
   "execution_count": null,
   "metadata": {},
   "outputs": [],
   "source": []
  }
 ],
 "metadata": {
  "kernelspec": {
   "display_name": "thymio_venv",
   "language": "python",
   "name": "python3"
  },
  "language_info": {
   "codemirror_mode": {
    "name": "ipython",
    "version": 3
   },
   "file_extension": ".py",
   "mimetype": "text/x-python",
   "name": "python",
   "nbconvert_exporter": "python",
   "pygments_lexer": "ipython3",
   "version": "3.11.6"
  }
 },
 "nbformat": 4,
 "nbformat_minor": 2
}
