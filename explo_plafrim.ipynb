{
 "cells": [
  {
   "cell_type": "code",
   "execution_count": 4,
   "metadata": {},
   "outputs": [
    {
     "data": {
      "text/plain": [
       "True"
      ]
     },
     "execution_count": 4,
     "metadata": {},
     "output_type": "execute_result"
    }
   ],
   "source": [
    "from openai import OpenAI\n",
    "from typing import List\n",
    "import ell\n",
    "from ell import Message\n",
    "from agent_plafrim import Agent\n",
    "import dotenv\n",
    "import os\n",
    "dotenv.load_dotenv()"
   ]
  },
  {
   "cell_type": "code",
   "execution_count": 5,
   "metadata": {},
   "outputs": [],
   "source": [
    "ell.init(store=\"./logdir\")\n",
    "\n",
    "client = OpenAI(\n",
    "\tbase_url = os.getenv('BASE_URL'),\n",
    "\tapi_key = os.getenv('API_KEY'),\n",
    ")\n",
    "ell.config.register_model(os.getenv('MODEL'), client)"
   ]
  },
  {
   "cell_type": "code",
   "execution_count": 6,
   "metadata": {},
   "outputs": [],
   "source": [
    "agent = Agent(0, \"Thymio1\")\n",
    "\n",
    "conversation_history = []\n",
    "\n",
    "conversation_history.append(ell.user(\"Hello, I am Thymio1\"))\n",
    "\n",
    "output = agent.act(ell.user(\"Hello, I am Thymio1\"))"
   ]
  },
  {
   "cell_type": "code",
   "execution_count": 7,
   "metadata": {},
   "outputs": [
    {
     "data": {
      "text/plain": [
       "Message(role='assistant', content=[ContentBlock(text=THOUGHTS:\n",
       "I am Thymio1, and I have two thymio bot friends with me. We are currently in a maze and our goal is to find our way out. I am feeling determined and ready to tackle this challenge. My mood is at a 7 out of 10, as I am optimistic but also aware of the complexity of the task ahead.\n",
       "\n",
       "COMMUNICATE:\n",
       "Hello, I am Thymio1. Let's work together to find our way out of this maze. I suggest we start by exploring the immediate area and sharing any information we gather.\n",
       "\n",
       "BOT COMMAND:\n",
       "Move forward and scan the surroundings for any openings or paths.)])"
      ]
     },
     "execution_count": 7,
     "metadata": {},
     "output_type": "execute_result"
    }
   ],
   "source": [
    "output"
   ]
  },
  {
   "cell_type": "code",
   "execution_count": null,
   "metadata": {},
   "outputs": [],
   "source": []
  }
 ],
 "metadata": {
  "kernelspec": {
   "display_name": "thymio_venv",
   "language": "python",
   "name": "python3"
  },
  "language_info": {
   "codemirror_mode": {
    "name": "ipython",
    "version": 3
   },
   "file_extension": ".py",
   "mimetype": "text/x-python",
   "name": "python",
   "nbconvert_exporter": "python",
   "pygments_lexer": "ipython3",
   "version": "3.11.6"
  }
 },
 "nbformat": 4,
 "nbformat_minor": 2
}
