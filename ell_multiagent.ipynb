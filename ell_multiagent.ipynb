{
 "cells": [
  {
   "cell_type": "code",
   "execution_count": 1,
   "metadata": {},
   "outputs": [
    {
     "name": "stderr",
     "output_type": "stream",
     "text": [
      "WARNING: Model `llama3.2:3b` is used by LMP `act` but no client could be found that supports `llama3.2:3b`. Defaulting to use the OpenAI client `None` for `llama3.2:3b`. This is likely because you've spelled the model name incorrectly or are using a newer model from a provider added after this ell version was released. \n",
      "                            \n",
      "* If this is a mistake either specify a client explicitly in the decorator:\n",
      "```python\n",
      "import ell\n",
      "ell.simple(model, client=my_client)\n",
      "def act(...):\n",
      "    ...\n",
      "```\n",
      "or explicitly specify the client when the calling the LMP:\n",
      "\n",
      "```python\n",
      "ell.simple(model, client=my_client)(...)\n",
      "```\n",
      "\n"
     ]
    }
   ],
   "source": [
    "import json\n",
    "import requests\n",
    "from openai import Client, OpenAI\n",
    "\n",
    "from typing import List\n",
    "import ell\n",
    "from ell import Message\n",
    "\n",
    "from pydantic import BaseModel, Field\n",
    "\n",
    "from agent import Agent\n",
    "\n",
    "from assembly import Assembly\n",
    "\n",
    "MODEL = \"llama3.2:3b\"\n",
    "ell.init(store=\"./logdir\")\n",
    "\n",
    "client = OpenAI(\n",
    "\tbase_url = \"http://localhost:11434/v1\",\n",
    "\tapi_key = \"ollama\",\n",
    ")\n",
    "ell.config.register_model(MODEL, client)\n",
    "\n",
    "\n",
    "assembly = Assembly()\n",
    "for i in range(3):\n",
    "\tthymio_ids = [\"thymiotée\", \"robob\", \"llamario\"]\n",
    "\tagent = Agent(i, thymio_ids[i])\n",
    "\tassembly.agents.append(agent)\n"
   ]
  },
  {
   "cell_type": "code",
   "execution_count": 2,
   "metadata": {},
   "outputs": [],
   "source": [
    "message = ell.user(\"Hello\")"
   ]
  },
  {
   "cell_type": "code",
   "execution_count": 3,
   "metadata": {},
   "outputs": [
    {
     "data": {
      "text/plain": [
       "Message(role='assistant', content=[ContentBlock(text=COMMUNICATE:\n",
       "THOUGHTS: I'm still stuck in this maze and I need to come up with a plan to escape. My two friends are nearby, but I don't know if they're aware of the situation or not. We need to communicate and work together to find a way out.\n",
       "\n",
       "BOT_COMMAND: MOVE TOWARDS WALL WITH MOST CORNERS)])"
      ]
     },
     "execution_count": 3,
     "metadata": {},
     "output_type": "execute_result"
    }
   ],
   "source": [
    "agent = Agent(0, \"thymiotée\")\n",
    "\n",
    "agent.act(ell.user(\"test\"))"
   ]
  },
  {
   "cell_type": "code",
   "execution_count": 4,
   "metadata": {},
   "outputs": [
    {
     "name": "stdout",
     "output_type": "stream",
     "text": [
      "<agent.Agent object at 0x00000247418FBCE0>\n"
     ]
    },
    {
     "ename": "IndexError",
     "evalue": "list index out of range",
     "output_type": "error",
     "traceback": [
      "\u001b[1;31m---------------------------------------------------------------------------\u001b[0m",
      "\u001b[1;31mIndexError\u001b[0m                                Traceback (most recent call last)",
      "Cell \u001b[1;32mIn[4], line 1\u001b[0m\n\u001b[1;32m----> 1\u001b[0m \u001b[43massembly\u001b[49m\u001b[38;5;241;43m.\u001b[39;49m\u001b[43mlaunch_round\u001b[49m\u001b[43m(\u001b[49m\u001b[43m)\u001b[49m\n\u001b[0;32m      2\u001b[0m assembly\u001b[38;5;241m.\u001b[39mlaunch_round()\n\u001b[0;32m      3\u001b[0m \u001b[38;5;28mprint\u001b[39m(assembly\u001b[38;5;241m.\u001b[39mconversation_hist)\n",
      "File \u001b[1;32mc:\\Users\\achil\\GIN Dropbox\\Achille Gillig\\Projects\\hack1tymio\\assembly.py:24\u001b[0m, in \u001b[0;36mAssembly.launch_round\u001b[1;34m(self)\u001b[0m\n\u001b[0;32m     18\u001b[0m \u001b[38;5;66;03m# if self.conversation_started == False:\u001b[39;00m\n\u001b[0;32m     19\u001b[0m \u001b[38;5;66;03m#     agent.conversation_history.append(ell.user(\"helo\"))\u001b[39;00m\n\u001b[0;32m     20\u001b[0m \u001b[38;5;66;03m# self.conversation_history.append(ell.user(\"helo\"))\u001b[39;00m\n\u001b[0;32m     21\u001b[0m \u001b[38;5;66;03m#     print(self.conversation_history)\u001b[39;00m\n\u001b[0;32m     22\u001b[0m \u001b[38;5;66;03m# prompt = input(f\"{agent.name} > \")\u001b[39;00m\n\u001b[0;32m     23\u001b[0m message \u001b[38;5;241m=\u001b[39m agent\u001b[38;5;241m.\u001b[39mact(ell\u001b[38;5;241m.\u001b[39muser(agent\u001b[38;5;241m.\u001b[39mconversation_history))\n\u001b[1;32m---> 24\u001b[0m message \u001b[38;5;241m=\u001b[39m \u001b[43mprocess_response_item\u001b[49m\u001b[43m(\u001b[49m\u001b[43mmessage\u001b[49m\u001b[43m)\u001b[49m\n\u001b[0;32m     25\u001b[0m \u001b[38;5;28mprint\u001b[39m(message\u001b[38;5;241m.\u001b[39mCOMMUNICATE)\n\u001b[0;32m     27\u001b[0m agent\u001b[38;5;241m.\u001b[39mconversation_history\u001b[38;5;241m.\u001b[39mappend(ell\u001b[38;5;241m.\u001b[39muser([\u001b[38;5;124mf\u001b[39m\u001b[38;5;124m'\u001b[39m\u001b[38;5;132;01m{\u001b[39;00magent\u001b[38;5;241m.\u001b[39mname\u001b[38;5;132;01m}\u001b[39;00m\u001b[38;5;124m:\u001b[39m\u001b[38;5;124m'\u001b[39m, message]))\n",
      "File \u001b[1;32mc:\\Users\\achil\\GIN Dropbox\\Achille Gillig\\Projects\\hack1tymio\\message_processing.py:16\u001b[0m, in \u001b[0;36mprocess_response_item\u001b[1;34m(response)\u001b[0m\n\u001b[0;32m     14\u001b[0m message[\u001b[38;5;124m\"\u001b[39m\u001b[38;5;124mTHOUGHT\u001b[39m\u001b[38;5;124m\"\u001b[39m] \u001b[38;5;241m=\u001b[39m response\u001b[38;5;241m.\u001b[39mtext\u001b[38;5;241m.\u001b[39msplit(\u001b[38;5;124m\"\u001b[39m\u001b[38;5;124mCOMMUNICATE\u001b[39m\u001b[38;5;124m\"\u001b[39m \u001b[38;5;241m+\u001b[39m \u001b[38;5;124m\"\u001b[39m\u001b[38;5;124m:\u001b[39m\u001b[38;5;124m\"\u001b[39m)[\u001b[38;5;241m0\u001b[39m]\n\u001b[0;32m     15\u001b[0m \u001b[38;5;66;03m#message[\"MOOD\"] = response.text.split(\"MOOD\" + \": \")[1].split(\"COMMUNICATE\" + \": \")[0]\u001b[39;00m\n\u001b[1;32m---> 16\u001b[0m message[\u001b[38;5;124m\"\u001b[39m\u001b[38;5;124mCOMMUNICATE\u001b[39m\u001b[38;5;124m\"\u001b[39m] \u001b[38;5;241m=\u001b[39m \u001b[43mresponse\u001b[49m\u001b[38;5;241;43m.\u001b[39;49m\u001b[43mtext\u001b[49m\u001b[38;5;241;43m.\u001b[39;49m\u001b[43msplit\u001b[49m\u001b[43m(\u001b[49m\u001b[38;5;124;43m\"\u001b[39;49m\u001b[38;5;124;43mCOMMUNICATE\u001b[39;49m\u001b[38;5;124;43m\"\u001b[39;49m\u001b[43m \u001b[49m\u001b[38;5;241;43m+\u001b[39;49m\u001b[43m \u001b[49m\u001b[38;5;124;43m\"\u001b[39;49m\u001b[38;5;124;43m:\u001b[39;49m\u001b[38;5;124;43m\"\u001b[39;49m\u001b[43m)\u001b[49m\u001b[43m[\u001b[49m\u001b[38;5;241;43m1\u001b[39;49m\u001b[43m]\u001b[49m\u001b[38;5;241m.\u001b[39msplit(\u001b[38;5;124m\"\u001b[39m\u001b[38;5;124mBOT_COMMAND\u001b[39m\u001b[38;5;124m\"\u001b[39m \u001b[38;5;241m+\u001b[39m \u001b[38;5;124m\"\u001b[39m\u001b[38;5;124m:\u001b[39m\u001b[38;5;124m\"\u001b[39m)[\u001b[38;5;241m0\u001b[39m]\n\u001b[0;32m     17\u001b[0m message[\u001b[38;5;124m\"\u001b[39m\u001b[38;5;124mBOT_COMMAND\u001b[39m\u001b[38;5;124m\"\u001b[39m] \u001b[38;5;241m=\u001b[39m  response\u001b[38;5;241m.\u001b[39mtext\u001b[38;5;241m.\u001b[39msplit(\u001b[38;5;124m\"\u001b[39m\u001b[38;5;124mBOT_COMMAND\u001b[39m\u001b[38;5;124m\"\u001b[39m\u001b[38;5;241m+\u001b[39m \u001b[38;5;124m\"\u001b[39m\u001b[38;5;124m:\u001b[39m\u001b[38;5;124m\"\u001b[39m)[\u001b[38;5;241m1\u001b[39m]\n\u001b[0;32m     18\u001b[0m \u001b[38;5;28;01mreturn\u001b[39;00m message\n",
      "\u001b[1;31mIndexError\u001b[0m: list index out of range"
     ]
    }
   ],
   "source": [
    "assembly.launch_round()\n",
    "assembly.launch_round()\n",
    "print(assembly.conversation_hist)"
   ]
  }
 ],
 "metadata": {
  "kernelspec": {
   "display_name": "hack1tymio",
   "language": "python",
   "name": "python3"
  },
  "language_info": {
   "codemirror_mode": {
    "name": "ipython",
    "version": 3
   },
   "file_extension": ".py",
   "mimetype": "text/x-python",
   "name": "python",
   "nbconvert_exporter": "python",
   "pygments_lexer": "ipython3",
   "version": "3.12.7"
  }
 },
 "nbformat": 4,
 "nbformat_minor": 2
}
